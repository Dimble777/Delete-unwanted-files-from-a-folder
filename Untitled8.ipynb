{
  "nbformat": 4,
  "nbformat_minor": 0,
  "metadata": {
    "colab": {
      "provenance": [],
      "authorship_tag": "ABX9TyPt80EvGacUnliNXuggyow0",
      "include_colab_link": true
    },
    "kernelspec": {
      "name": "python3",
      "display_name": "Python 3"
    },
    "language_info": {
      "name": "python"
    }
  },
  "cells": [
    {
      "cell_type": "markdown",
      "metadata": {
        "id": "view-in-github",
        "colab_type": "text"
      },
      "source": [
        "<a href=\"https://colab.research.google.com/github/Dimble777/Delete-unwanted-files-from-a-folder/blob/main/Untitled8.ipynb\" target=\"_parent\"><img src=\"https://colab.research.google.com/assets/colab-badge.svg\" alt=\"Open In Colab\"/></a>"
      ]
    },
    {
      "cell_type": "code",
      "execution_count": null,
      "metadata": {
        "id": "dKtKAHBvuTXd",
        "colab": {
          "base_uri": "https://localhost:8080/"
        },
        "outputId": "eb3dbfe6-9d46-465b-805f-df889dfb5593"
      },
      "outputs": [
        {
          "output_type": "stream",
          "name": "stdout",
          "text": [
            "Mounted at /content/drive\n"
          ]
        }
      ],
      "source": [
        "from google.colab import drive\n",
        "drive.mount('/content/drive')"
      ]
    },
    {
      "cell_type": "code",
      "source": [
        "import os\n",
        "\n",
        "folder = \"/content/drive/MyDrive/data/OutPut0.30.mp4/labels\"\n",
        "\n",
        "files = sorted(os.listdir(folder))  # sort to ensure order\n",
        "files_to_delete = files[200:]       # everything after first 200\n",
        "\n",
        "for f in files_to_delete:\n",
        "    os.remove(os.path.join(folder, f))\n",
        "\n",
        "print(f\"Deleted {len(files_to_delete)} files\")\n"
      ],
      "metadata": {
        "colab": {
          "base_uri": "https://localhost:8080/"
        },
        "id": "h2LQd1BWsz9v",
        "outputId": "62765426-464e-44d0-b0a9-e2ee72a052e7"
      },
      "execution_count": 30,
      "outputs": [
        {
          "output_type": "stream",
          "name": "stdout",
          "text": [
            "Deleted 346 files\n"
          ]
        }
      ]
    }
  ]
}